{
 "cells": [
  {
   "cell_type": "markdown",
   "metadata": {},
   "source": [
    "Hyperchunks need to handle the following use-cases:\n",
    "\n",
    "* It should be easy to create a Hyperchunks object (for clients).\n",
    "* It should be easy to convert a Hyperchunks object to its string representation (for clients). &#x2713;\n",
    "* It should be easy to parse a string and return a Hyperchunks object (for the server). &#x2713;\n",
    "* It should be easy to iterate over the contents of a Hyperchunks object (for the server). &#x2713;"
   ]
  },
  {
   "cell_type": "code",
   "execution_count": 1,
   "metadata": {
    "collapsed": false
   },
   "outputs": [],
   "source": [
    "import slycat.hyperchunks"
   ]
  },
  {
   "cell_type": "code",
   "execution_count": 4,
   "metadata": {
    "collapsed": false
   },
   "outputs": [],
   "source": [
    "hyperchunks = slycat.hyperchunks.Hyperchunks(\"1;3:5;...;-2;1/2;1/4:6;1/2:4/10:20;4/4/10:20|30:40|...\")"
   ]
  },
  {
   "cell_type": "code",
   "execution_count": 5,
   "metadata": {
    "collapsed": false
   },
   "outputs": [
    {
     "name": "stdout",
     "output_type": "stream",
     "text": [
      "Array 1\n",
      "Array 3\n",
      "Array 4\n",
      "Array 0\n",
      "Array 1\n",
      "Array 2\n",
      "Array 3\n",
      "Array 4\n",
      "Array 3\n",
      "Array 1\n",
      "  Attribute 2\n",
      "Array 1\n",
      "  Attribute 4\n",
      "Array 1\n",
      "  Attribute 2\n",
      "    Hyperslice (slice(10, 20, None),)\n",
      "  Attribute 3\n",
      "    Hyperslice (slice(10, 20, None),)\n",
      "Array 4\n",
      "  Attribute 4\n",
      "    Hyperslice (slice(10, 20, None),)\n",
      "    Hyperslice (slice(30, 40, None),)\n",
      "    Hyperslice (Ellipsis,)\n"
     ]
    }
   ],
   "source": [
    "for array in hyperchunks.arrays(array_count=5):\n",
    "    print \"Array\", array.index\n",
    "    for attribute in array.attributes(attribute_count=5):\n",
    "        print \"  Attribute\", attribute.index\n",
    "        for hyperslice in attribute.hyperslices():\n",
    "            print \"    Hyperslice\", hyperslice"
   ]
  },
  {
   "cell_type": "code",
   "execution_count": null,
   "metadata": {
    "collapsed": true
   },
   "outputs": [],
   "source": []
  }
 ],
 "metadata": {
  "kernelspec": {
   "display_name": "Python 2",
   "language": "python",
   "name": "python2"
  },
  "language_info": {
   "codemirror_mode": {
    "name": "ipython",
    "version": 2
   },
   "file_extension": ".py",
   "mimetype": "text/x-python",
   "name": "python",
   "nbconvert_exporter": "python",
   "pygments_lexer": "ipython2",
   "version": "2.7.9"
  }
 },
 "nbformat": 4,
 "nbformat_minor": 0
}
