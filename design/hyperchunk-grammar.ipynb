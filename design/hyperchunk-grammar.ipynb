{
 "cells": [
  {
   "cell_type": "code",
   "execution_count": 1,
   "metadata": {
    "collapsed": false
   },
   "outputs": [],
   "source": [
    "from slycat.hyperchunks.grammar import *"
   ]
  },
  {
   "cell_type": "code",
   "execution_count": 2,
   "metadata": {
    "collapsed": false
   },
   "outputs": [
    {
     "name": "stdout",
     "output_type": "stream",
     "text": [
      "<slycat.hyperchunks.grammar.AttributeIndex object at 0x1043fefd0> in [0, 1]\n"
     ]
    }
   ],
   "source": [
    "a = membership_comparison_p.parseString(\"\"\"a1 in [0, 1]\"\"\")\n",
    "print a[0].left, a[0].operator, a[0].right.values"
   ]
  },
  {
   "cell_type": "code",
   "execution_count": 3,
   "metadata": {
    "collapsed": false
   },
   "outputs": [
    {
     "name": "stdout",
     "output_type": "stream",
     "text": [
      "<slycat.hyperchunks.grammar.AttributeIndex object at 0x10442cc10> in ['red', 'cayenne']\n"
     ]
    }
   ],
   "source": [
    "a = membership_comparison_p.parseString(\"\"\"a1 in [\"red\", \"cayenne\"]\"\"\")\n",
    "print a[0].left, a[0].operator, a[0].right.values"
   ]
  },
  {
   "cell_type": "code",
   "execution_count": 4,
   "metadata": {
    "collapsed": false
   },
   "outputs": [
    {
     "name": "stdout",
     "output_type": "stream",
     "text": [
      "<slycat.hyperchunks.grammar.AttributeIndex object at 0x10442cad0> not in ['red', 'cayenne']\n"
     ]
    }
   ],
   "source": [
    "a = membership_comparison_p.parseString(\"\"\"a1 not in [\"red\", \"cayenne\"]\"\"\")\n",
    "print a[0].left, a[0].operator, a[0].right.values"
   ]
  },
  {
   "cell_type": "code",
   "execution_count": null,
   "metadata": {
    "collapsed": true
   },
   "outputs": [],
   "source": []
  }
 ],
 "metadata": {
  "kernelspec": {
   "display_name": "Python 2",
   "language": "python",
   "name": "python2"
  },
  "language_info": {
   "codemirror_mode": {
    "name": "ipython",
    "version": 2
   },
   "file_extension": ".py",
   "mimetype": "text/x-python",
   "name": "python",
   "nbconvert_exporter": "python",
   "pygments_lexer": "ipython2",
   "version": "2.7.9"
  }
 },
 "nbformat": 4,
 "nbformat_minor": 0
}
