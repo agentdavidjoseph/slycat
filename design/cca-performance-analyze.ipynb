{
 "metadata": {
  "name": "",
  "signature": "sha256:2be6279e398d0734d94b33eb38433d5ee9b73fea7ced9019513725b8b6fa9549"
 },
 "nbformat": 3,
 "nbformat_minor": 0,
 "worksheets": [
  {
   "cells": [
    {
     "cell_type": "code",
     "collapsed": false,
     "input": [
      "import numpy\n",
      "import pickle\n",
      "import toyplot.data, toyplot.pdf\n",
      "import IPython.display"
     ],
     "language": "python",
     "metadata": {},
     "outputs": [],
     "prompt_number": 1
    },
    {
     "cell_type": "code",
     "collapsed": false,
     "input": [
      "raw_times = pickle.load(open(\"cca-performance.pickle\", \"r\"))"
     ],
     "language": "python",
     "metadata": {},
     "outputs": [],
     "prompt_number": 2
    },
    {
     "cell_type": "code",
     "collapsed": false,
     "input": [
      "times = []\n",
      "for rows in numpy.unique(raw_times[\"rows\"]):\n",
      "    for columns in numpy.unique(raw_times[\"columns\"]):\n",
      "        data = raw_times[numpy.logical_and(raw_times[\"rows\"] == rows, raw_times[\"columns\"] == columns)]\n",
      "        if len(data):\n",
      "            times.append((rows, columns, numpy.mean(data[\"ingestion\"]), numpy.mean(data[\"compute\"])))\n",
      "times = numpy.array(times, dtype={\"names\":[\"rows\", \"columns\", \"ingestion\", \"compute\"], \"formats\":[\"int64\", \"int64\", \"float64\", \"float64\"]})"
     ],
     "language": "python",
     "metadata": {},
     "outputs": [],
     "prompt_number": 3
    },
    {
     "cell_type": "code",
     "collapsed": false,
     "input": [
      "rows = numpy.unique(times[\"rows\"])\n",
      "columns = numpy.unique(times[\"columns\"])\n",
      "\n",
      "canvas = toyplot.Canvas(1000, 1000)\n",
      "axes = []\n",
      "\n",
      "axes.append(canvas.axes(xscale=\"log10\", yscale=\"log10\", label=\"Ingestion Times\", xlabel=\"Row Count\", ylabel=\"Ingestion Time\", grid=(2, 2, 0, 0), gutter=80))\n",
      "marks = []\n",
      "for j, column in enumerate(columns):\n",
      "    series = numpy.sort(times[times[\"columns\"] == column])\n",
      "    marks.append((\"%s columns\" % column, axes[-1].plot(series[\"rows\"], series[\"ingestion\"])))\n",
      "    axes[-1].scatterplot(series[\"rows\"], series[\"ingestion\"])\n",
      "axes[-1].legend(marks, corner=(\"top-left\", 100, len(columns) * 20, 10))\n",
      "\n",
      "axes.append(canvas.axes(xscale=\"log10\", yscale=\"log10\", label=\"Ingestion Times\", xlabel=\"Column Count\", ylabel=\"Ingestion Time\", grid=(2, 2, 0, 1), gutter=80))\n",
      "marks = []\n",
      "for i, row in enumerate(rows):\n",
      "    series = numpy.sort(times[times[\"rows\"] == row])\n",
      "    marks.append((\"%s rows\" % row, axes[-1].plot(series[\"columns\"], series[\"ingestion\"])))\n",
      "    axes[-1].scatterplot(series[\"columns\"], series[\"ingestion\"])\n",
      "axes[-1].legend(marks, corner=(\"top-left\", 100, len(rows) * 20, 10))\n",
      "\n",
      "axes.append(canvas.axes(xscale=\"log10\", yscale=\"log10\", label=\"Compute Times\", xlabel=\"Row Count\", ylabel=\"Compute Time\", grid=(2, 2, 1, 0), gutter=80))\n",
      "marks = []\n",
      "for j, column in enumerate(columns):\n",
      "    series = numpy.sort(times[times[\"columns\"] == column])\n",
      "    marks.append((\"%s columns\" % column, axes[-1].plot(series[\"rows\"], series[\"compute\"])))\n",
      "    axes[-1].scatterplot(series[\"rows\"], series[\"compute\"])\n",
      "axes[-1].legend(marks, corner=(\"top-left\", 100, len(columns) * 20, 10))\n",
      "\n",
      "axes.append(canvas.axes(xscale=\"log10\", yscale=\"log10\", label=\"Compute Times\", xlabel=\"Column Count\", ylabel=\"Compute Time\", grid=(2, 2, 1, 1), gutter=80))\n",
      "marks = []\n",
      "for i, row in enumerate(rows):\n",
      "    series = numpy.sort(times[times[\"rows\"] == row])\n",
      "    marks.append((\"%s rows\" % row, axes[-1].plot(series[\"columns\"], series[\"compute\"])))\n",
      "    axes[-1].scatterplot(series[\"columns\"], series[\"compute\"])\n",
      "axes[-1].legend(marks, corner=(\"top-left\", 100, len(rows) * 20, 10))\n",
      "\n",
      "toyplot.pdf.render(canvas, \"cca-performance-log-log.pdf\")\n",
      "#for a in axes:\n",
      "#    a.x(scale=\"linear\")\n",
      "#    a.y(scale=\"linear\")\n",
      "#toyplot.pdf.render(canvas, \"cca-performance-linear.pdf\")\n",
      "\n",
      "canvas = toyplot.Canvas(200 * len(columns), 800, style={\"background-color\":\"white\"})\n",
      "for j, column in enumerate(columns):\n",
      "    axes = canvas.axes(label=\"%s Columns\" % column, xlabel=\"Row Count\", ylabel=\"Ingestion Time\" if j == 0 else None, grid=(4, len(columns), 0, j), gutter=60)\n",
      "    series = numpy.sort(times[times[\"columns\"] == column])\n",
      "    axes.plot(series[\"rows\"], series[\"ingestion\"])\n",
      "    axes.scatterplot(series[\"rows\"], series[\"ingestion\"])\n",
      "\n",
      "for i, row in enumerate(rows):\n",
      "    axes = canvas.axes(label=\"%s Rows\" % row, xlabel=\"Column Count\", ylabel=\"Ingestion Time\" if i == 0 else None, grid=(4, len(columns), 1, i), gutter=60)\n",
      "    series = numpy.sort(times[times[\"rows\"] == row])\n",
      "    axes.plot(series[\"columns\"], series[\"ingestion\"])\n",
      "    axes.scatterplot(series[\"columns\"], series[\"ingestion\"])\n",
      "\n",
      "for j, column in enumerate(columns):\n",
      "    axes = canvas.axes(label=\"%s Columns\" % column, xlabel=\"Row Count\", ylabel=\"Compute Time\" if j == 0 else None, grid=(4, len(columns), 2, j), gutter=60)\n",
      "    series = numpy.sort(times[times[\"columns\"] == column])\n",
      "    axes.plot(series[\"rows\"], series[\"compute\"])\n",
      "    axes.scatterplot(series[\"rows\"], series[\"compute\"])\n",
      "\n",
      "for i, row in enumerate(rows):\n",
      "    axes = canvas.axes(label=\"%s Rows\" % row, xlabel=\"Column Count\", ylabel=\"Compute Time\" if i == 0 else None, grid=(4, len(columns), 3, i), gutter=60)\n",
      "    series = numpy.sort(times[times[\"rows\"] == row])\n",
      "    axes.plot(series[\"columns\"], series[\"compute\"])\n",
      "    axes.scatterplot(series[\"columns\"], series[\"compute\"])\n",
      "\n",
      "toyplot.pdf.render(canvas, \"cca-performance-small-multiples.pdf\")"
     ],
     "language": "python",
     "metadata": {},
     "outputs": [],
     "prompt_number": 4
    },
    {
     "cell_type": "code",
     "collapsed": false,
     "input": [
      "ingestion = numpy.zeros((len(numpy.unique(times[\"rows\"])), len(numpy.unique(times[\"columns\"]))))\n",
      "for i, row in enumerate(numpy.unique(times[\"rows\"])):\n",
      "    for j, column in enumerate(numpy.unique(times[\"columns\"])):\n",
      "        data = times[numpy.logical_and(times[\"rows\"] == row, times[\"columns\"] == column)][\"ingestion\"]\n",
      "        if len(data):\n",
      "            ingestion[i, j] = data"
     ],
     "language": "python",
     "metadata": {},
     "outputs": [],
     "prompt_number": 5
    },
    {
     "cell_type": "code",
     "collapsed": false,
     "input": [
      "toyplot.data.Table(times)"
     ],
     "language": "python",
     "metadata": {},
     "outputs": [
      {
       "html": [
        "<table style=\"border-collapse:collapse; border:none\"><tr style=\"border:none;border-bottom:1px solid black\"><th style=\"text-align:center;border:none\">rows</th><th style=\"text-align:center;border:none\">columns</th><th style=\"text-align:center;border:none\">ingestion</th><th style=\"text-align:center;border:none\">compute</th></tr><tr style=\"border:none\"><td style=\"border:none\">10</td><td style=\"border:none\">4</td><td style=\"border:none\">1.900634</td><td style=\"border:none\">2.514624</td></tr><tr style=\"border:none\"><td style=\"border:none\">10</td><td style=\"border:none\">8</td><td style=\"border:none\">2.59965266667</td><td style=\"border:none\">2.72416633333</td></tr><tr style=\"border:none\"><td style=\"border:none\">100</td><td style=\"border:none\">4</td><td style=\"border:none\">1.89732966667</td><td style=\"border:none\">2.51583733333</td></tr><tr style=\"border:none\"><td style=\"border:none\">100</td><td style=\"border:none\">8</td><td style=\"border:none\">2.58303166667</td><td style=\"border:none\">2.70965</td></tr><tr style=\"border:none\"><td style=\"border:none\">100</td><td style=\"border:none\">16</td><td style=\"border:none\">4.11370633333</td><td style=\"border:none\">3.289174</td></tr><tr style=\"border:none\"><td style=\"border:none\">100</td><td style=\"border:none\">32</td><td style=\"border:none\">7.019353</td><td style=\"border:none\">4.48897766667</td></tr><tr style=\"border:none\"><td style=\"border:none\">100</td><td style=\"border:none\">64</td><td style=\"border:none\">13.1683446667</td><td style=\"border:none\">7.02546333333</td></tr><tr style=\"border:none\"><td style=\"border:none\">1000</td><td style=\"border:none\">4</td><td style=\"border:none\">1.96672233333</td><td style=\"border:none\">2.64234533333</td></tr><tr style=\"border:none\"><td style=\"border:none\">1000</td><td style=\"border:none\">8</td><td style=\"border:none\">2.606699</td><td style=\"border:none\">2.73026633333</td></tr><tr style=\"border:none\"><td style=\"border:none\">1000</td><td style=\"border:none\">16</td><td style=\"border:none\">4.13002433333</td><td style=\"border:none\">3.32555233333</td></tr><tr style=\"border:none\"><td style=\"border:none\">1000</td><td style=\"border:none\">32</td><td style=\"border:none\">7.11168633333</td><td style=\"border:none\">4.562491</td></tr><tr style=\"border:none\"><td style=\"border:none\">1000</td><td style=\"border:none\">64</td><td style=\"border:none\">13.0823813333</td><td style=\"border:none\">7.146196</td></tr><tr style=\"border:none\"><td style=\"border:none\">1000</td><td style=\"border:none\">128</td><td style=\"border:none\">25.964252</td><td style=\"border:none\">13.819693</td></tr><tr style=\"border:none\"><td style=\"border:none\">1000</td><td style=\"border:none\">256</td><td style=\"border:none\">51.6073763333</td><td style=\"border:none\">30.3485336667</td></tr><tr style=\"border:none\"><td style=\"border:none\">1000</td><td style=\"border:none\">512</td><td style=\"border:none\">104.700349667</td><td style=\"border:none\">85.8377133333</td></tr><tr style=\"border:none\"><td style=\"border:none\">10000</td><td style=\"border:none\">4</td><td style=\"border:none\">2.19077666667</td><td style=\"border:none\">2.66670966667</td></tr><tr style=\"border:none\"><td style=\"border:none\">10000</td><td style=\"border:none\">8</td><td style=\"border:none\">2.99834733333</td><td style=\"border:none\">2.827366</td></tr><tr style=\"border:none\"><td style=\"border:none\">10000</td><td style=\"border:none\">16</td><td style=\"border:none\">4.73469633333</td><td style=\"border:none\">3.57585066667</td></tr><tr style=\"border:none\"><td style=\"border:none\">10000</td><td style=\"border:none\">32</td><td style=\"border:none\">8.57702266667</td><td style=\"border:none\">4.90679433333</td></tr><tr style=\"border:none\"><td style=\"border:none\">10000</td><td style=\"border:none\">64</td><td style=\"border:none\">16.1287066667</td><td style=\"border:none\">8.02309433333</td></tr><tr style=\"border:none\"><td style=\"border:none\">10000</td><td style=\"border:none\">128</td><td style=\"border:none\">31.943016</td><td style=\"border:none\">18.1258633333</td></tr><tr style=\"border:none\"><td style=\"border:none\">10000</td><td style=\"border:none\">256</td><td style=\"border:none\">63.4830333333</td><td style=\"border:none\">74.87371</td></tr><tr style=\"border:none\"><td style=\"border:none\">10000</td><td style=\"border:none\">512</td><td style=\"border:none\">133.791769667</td><td style=\"border:none\">279.377598</td></tr><tr style=\"border:none\"><td style=\"border:none\">10000</td><td style=\"border:none\">1024</td><td style=\"border:none\">276.946702667</td><td style=\"border:none\">966.017085333</td></tr><tr style=\"border:none\"><td style=\"border:none\">100000</td><td style=\"border:none\">4</td><td style=\"border:none\">3.23838566667</td><td style=\"border:none\">2.81216666667</td></tr><tr style=\"border:none\"><td style=\"border:none\">100000</td><td style=\"border:none\">8</td><td style=\"border:none\">5.56654833333</td><td style=\"border:none\">3.417055</td></tr><tr style=\"border:none\"><td style=\"border:none\">100000</td><td style=\"border:none\">16</td><td style=\"border:none\">7.996043</td><td style=\"border:none\">5.95229066667</td></tr><tr style=\"border:none\"><td style=\"border:none\">100000</td><td style=\"border:none\">32</td><td style=\"border:none\">15.432649</td><td style=\"border:none\">14.0614776667</td></tr><tr style=\"border:none\"><td style=\"border:none\">100000</td><td style=\"border:none\">64</td><td style=\"border:none\">29.289693</td><td style=\"border:none\">35.1302693333</td></tr><tr style=\"border:none\"><td style=\"border:none\">100000</td><td style=\"border:none\">128</td><td style=\"border:none\">57.3483546667</td><td style=\"border:none\">120.407746667</td></tr><tr style=\"border:none\"><td style=\"border:none\">100000</td><td style=\"border:none\">256</td><td style=\"border:none\">116.932005</td><td style=\"border:none\">419.612024</td></tr><tr style=\"border:none\"><td style=\"border:none\">100000</td><td style=\"border:none\">512</td><td style=\"border:none\">233.742688</td><td style=\"border:none\">1790.88373433</td></tr><tr style=\"border:none\"><td style=\"border:none\">1000000</td><td style=\"border:none\">4</td><td style=\"border:none\">12.5297086667</td><td style=\"border:none\">4.727007</td></tr><tr style=\"border:none\"><td style=\"border:none\">1000000</td><td style=\"border:none\">8</td><td style=\"border:none\">24.6638996667</td><td style=\"border:none\">9.36087833333</td></tr><tr style=\"border:none\"><td style=\"border:none\">1000000</td><td style=\"border:none\">16</td><td style=\"border:none\">48.541</td><td style=\"border:none\">26.579528</td></tr><tr style=\"border:none\"><td style=\"border:none\">1000000</td><td style=\"border:none\">32</td><td style=\"border:none\">96.0189503333</td><td style=\"border:none\">86.0410073333</td></tr><tr style=\"border:none\"><td style=\"border:none\">1000000</td><td style=\"border:none\">64</td><td style=\"border:none\">192.981695</td><td style=\"border:none\">317.211047667</td></tr><tr style=\"border:none\"><td style=\"border:none\">1000000</td><td style=\"border:none\">128</td><td style=\"border:none\">381.688236333</td><td style=\"border:none\">1176.03331033</td></tr><tr style=\"border:none\"><td style=\"border:none\">1000000</td><td style=\"border:none\">256</td><td style=\"border:none\">761.363995</td><td style=\"border:none\">5418.896506</td></tr></table>"
       ],
       "metadata": {},
       "output_type": "pyout",
       "prompt_number": 6,
       "text": [
        "<toyplot.data.Table instance at 0x1088f0050>"
       ]
      }
     ],
     "prompt_number": 6
    },
    {
     "cell_type": "code",
     "collapsed": false,
     "input": [
      "import scipy.sparse"
     ],
     "language": "python",
     "metadata": {},
     "outputs": [],
     "prompt_number": 7
    },
    {
     "cell_type": "code",
     "collapsed": false,
     "input": [
      "ingestion = scipy.sparse.coo_matrix((times[\"ingestion\"], (times[\"rows\"], times[\"columns\"])))\n",
      "toyplot.data.Table(ingestion)"
     ],
     "language": "python",
     "metadata": {},
     "outputs": [
      {
       "html": [
        "<table style=\"border-collapse:collapse; border:none\"><tr style=\"border:none;border-bottom:1px solid black\"><th style=\"border:none\"></th><th style=\"text-align:center;border:none\">4</th><th style=\"text-align:center;border:none\">8</th><th style=\"text-align:center;border:none\">16</th><th style=\"text-align:center;border:none\">32</th><th style=\"text-align:center;border:none\">64</th><th style=\"text-align:center;border:none\">128</th><th style=\"text-align:center;border:none\">256</th><th style=\"text-align:center;border:none\">512</th><th style=\"text-align:center;border:none\">1024</th></tr><tr style=\"border:none\"><th style=\"border:none\">10</th><td style=\"border:none\">1.901</td><td style=\"border:none\">2.6</td><td style=\"border:none\"></td><td style=\"border:none\"></td><td style=\"border:none\"></td><td style=\"border:none\"></td><td style=\"border:none\"></td><td style=\"border:none\"></td><td style=\"border:none\"></td></tr><tr style=\"border:none\"><th style=\"border:none\">100</th><td style=\"border:none\">1.897</td><td style=\"border:none\">2.583</td><td style=\"border:none\">4.114</td><td style=\"border:none\">7.019</td><td style=\"border:none\">13.17</td><td style=\"border:none\"></td><td style=\"border:none\"></td><td style=\"border:none\"></td><td style=\"border:none\"></td></tr><tr style=\"border:none\"><th style=\"border:none\">1000</th><td style=\"border:none\">1.967</td><td style=\"border:none\">2.607</td><td style=\"border:none\">4.13</td><td style=\"border:none\">7.112</td><td style=\"border:none\">13.08</td><td style=\"border:none\">25.96</td><td style=\"border:none\">51.61</td><td style=\"border:none\">104.7</td><td style=\"border:none\"></td></tr><tr style=\"border:none\"><th style=\"border:none\">10000</th><td style=\"border:none\">2.191</td><td style=\"border:none\">2.998</td><td style=\"border:none\">4.735</td><td style=\"border:none\">8.577</td><td style=\"border:none\">16.13</td><td style=\"border:none\">31.94</td><td style=\"border:none\">63.48</td><td style=\"border:none\">133.8</td><td style=\"border:none\">276.9</td></tr><tr style=\"border:none\"><th style=\"border:none\">100000</th><td style=\"border:none\">3.238</td><td style=\"border:none\">5.567</td><td style=\"border:none\">7.996</td><td style=\"border:none\">15.43</td><td style=\"border:none\">29.29</td><td style=\"border:none\">57.35</td><td style=\"border:none\">116.9</td><td style=\"border:none\">233.7</td><td style=\"border:none\"></td></tr><tr style=\"border:none\"><th style=\"border:none\">1000000</th><td style=\"border:none\">12.53</td><td style=\"border:none\">24.66</td><td style=\"border:none\">48.54</td><td style=\"border:none\">96.02</td><td style=\"border:none\">193</td><td style=\"border:none\">381.7</td><td style=\"border:none\">761.4</td><td style=\"border:none\"></td><td style=\"border:none\"></td></tr></table>"
       ],
       "metadata": {},
       "output_type": "pyout",
       "prompt_number": 8,
       "text": [
        "<toyplot.data.Table instance at 0x1089099e0>"
       ]
      }
     ],
     "prompt_number": 8
    },
    {
     "cell_type": "code",
     "collapsed": false,
     "input": [
      "compute = scipy.sparse.coo_matrix((times[\"compute\"], (times[\"rows\"], times[\"columns\"])))\n",
      "toyplot.data.Table(compute)"
     ],
     "language": "python",
     "metadata": {},
     "outputs": [
      {
       "html": [
        "<table style=\"border-collapse:collapse; border:none\"><tr style=\"border:none;border-bottom:1px solid black\"><th style=\"border:none\"></th><th style=\"text-align:center;border:none\">4</th><th style=\"text-align:center;border:none\">8</th><th style=\"text-align:center;border:none\">16</th><th style=\"text-align:center;border:none\">32</th><th style=\"text-align:center;border:none\">64</th><th style=\"text-align:center;border:none\">128</th><th style=\"text-align:center;border:none\">256</th><th style=\"text-align:center;border:none\">512</th><th style=\"text-align:center;border:none\">1024</th></tr><tr style=\"border:none\"><th style=\"border:none\">10</th><td style=\"border:none\">2.515</td><td style=\"border:none\">2.724</td><td style=\"border:none\"></td><td style=\"border:none\"></td><td style=\"border:none\"></td><td style=\"border:none\"></td><td style=\"border:none\"></td><td style=\"border:none\"></td><td style=\"border:none\"></td></tr><tr style=\"border:none\"><th style=\"border:none\">100</th><td style=\"border:none\">2.516</td><td style=\"border:none\">2.71</td><td style=\"border:none\">3.289</td><td style=\"border:none\">4.489</td><td style=\"border:none\">7.025</td><td style=\"border:none\"></td><td style=\"border:none\"></td><td style=\"border:none\"></td><td style=\"border:none\"></td></tr><tr style=\"border:none\"><th style=\"border:none\">1000</th><td style=\"border:none\">2.642</td><td style=\"border:none\">2.73</td><td style=\"border:none\">3.326</td><td style=\"border:none\">4.562</td><td style=\"border:none\">7.146</td><td style=\"border:none\">13.82</td><td style=\"border:none\">30.35</td><td style=\"border:none\">85.84</td><td style=\"border:none\"></td></tr><tr style=\"border:none\"><th style=\"border:none\">10000</th><td style=\"border:none\">2.667</td><td style=\"border:none\">2.827</td><td style=\"border:none\">3.576</td><td style=\"border:none\">4.907</td><td style=\"border:none\">8.023</td><td style=\"border:none\">18.13</td><td style=\"border:none\">74.87</td><td style=\"border:none\">279.4</td><td style=\"border:none\">966</td></tr><tr style=\"border:none\"><th style=\"border:none\">100000</th><td style=\"border:none\">2.812</td><td style=\"border:none\">3.417</td><td style=\"border:none\">5.952</td><td style=\"border:none\">14.06</td><td style=\"border:none\">35.13</td><td style=\"border:none\">120.4</td><td style=\"border:none\">419.6</td><td style=\"border:none\">1791</td><td style=\"border:none\"></td></tr><tr style=\"border:none\"><th style=\"border:none\">1000000</th><td style=\"border:none\">4.727</td><td style=\"border:none\">9.361</td><td style=\"border:none\">26.58</td><td style=\"border:none\">86.04</td><td style=\"border:none\">317.2</td><td style=\"border:none\">1176</td><td style=\"border:none\">5419</td><td style=\"border:none\"></td><td style=\"border:none\"></td></tr></table>"
       ],
       "metadata": {},
       "output_type": "pyout",
       "prompt_number": 9,
       "text": [
        "<toyplot.data.Table instance at 0x10af4ab48>"
       ]
      }
     ],
     "prompt_number": 9
    }
   ],
   "metadata": {}
  }
 ]
}